{
 "cells": [
  {
   "cell_type": "code",
   "execution_count": 1,
   "metadata": {},
   "outputs": [],
   "source": [
    "import tensorflow as tf\n",
    "import numpy as np\n",
    "import matplotlib.pyplot as plt\n",
    "import pandas as pd\n",
    "import os \n",
    "import glob\n",
    "import re\n",
    "\n",
    "\n",
    "import time\n",
    "import pandas as pd\n",
    "from selenium import webdriver\n",
    "from bs4 import BeautifulSoup\n",
    "import numpy as np\n",
    "import matplotlib.pyplot as plt\n",
    "import platform\n",
    "import re\n",
    "from urllib.request import urlopen\n",
    "%matplotlib inline\n",
    "\n",
    "from matplotlib import font_manager, rc\n",
    "plt.rcParams['axes.unicode_minus'] = False\n",
    "\n",
    "if platform.system() == 'Darwin':\n",
    "   rc('font', family='AppleGothic')\n",
    "elif platform.system() == 'Windows'    :\n",
    "   path = \"c:/Windows/Fonts/malgun.ttf\"\n",
    "   font_name = font_manager.FontProperties(fname=path).get_name()\n",
    "   rc('font', family=font_name)\n",
    "else:\n",
    "   print('Unknown system')\n",
    "\n",
    "plt.rcParams['axes.unicode_minus'] = False"
   ]
  },
  {
   "cell_type": "code",
   "execution_count": 2,
   "metadata": {},
   "outputs": [
    {
     "name": "stdout",
     "output_type": "stream",
     "text": [
      "총 이미지 숫자: 6867\n"
     ]
    }
   ],
   "source": [
    "os.listdir('1022_01/')\n",
    "print('총 이미지 숫자:',len(glob.glob('1022_01/*.jpg')))"
   ]
  },
  {
   "cell_type": "code",
   "execution_count": 3,
   "metadata": {},
   "outputs": [
    {
     "name": "stdout",
     "output_type": "stream",
     "text": [
      "260603788R_201708021236001000210001001_2.jpg\n"
     ]
    }
   ],
   "source": [
    "imgs = [] \n",
    "real = [] \n",
    "imglist = glob.glob('1022_01/*.jpg')\n",
    "for i in range(len(imglist)):\n",
    "    a= imglist[i].replace('\\\\','@')\n",
    "    a1= imglist[i].replace('\\\\','/')\n",
    "    a = re.split('@',a)[1]\n",
    "    imgs.append(a)\n",
    "    real.append(a1)\n",
    "print(imgs[0])"
   ]
  },
  {
   "cell_type": "code",
   "execution_count": 4,
   "metadata": {},
   "outputs": [],
   "source": [
    "prod = []\n",
    "for i in range(len(imgs)):\n",
    "    a = re.split('_',imgs[i])[0]\n",
    "    prod.append(a)"
   ]
  },
  {
   "cell_type": "code",
   "execution_count": 5,
   "metadata": {},
   "outputs": [
    {
     "name": "stdout",
     "output_type": "stream",
     "text": [
      "품번 종류:  100\n"
     ]
    }
   ],
   "source": [
    "print('품번 종류: ',len(set(prod)))"
   ]
  },
  {
   "cell_type": "code",
   "execution_count": 6,
   "metadata": {},
   "outputs": [
    {
     "data": {
      "text/plain": [
       "6867"
      ]
     },
     "execution_count": 6,
     "metadata": {},
     "output_type": "execute_result"
    }
   ],
   "source": [
    "len(imgs)"
   ]
  },
  {
   "cell_type": "code",
   "execution_count": 8,
   "metadata": {},
   "outputs": [],
   "source": [
    "imgs1 = imgs[0:2000]\n",
    "imgs2 = imgs[2000:4000]\n",
    "imgs3 = imgs[6000:]"
   ]
  },
  {
   "cell_type": "code",
   "execution_count": 11,
   "metadata": {},
   "outputs": [
    {
     "name": "stdout",
     "output_type": "stream",
     "text": [
      "6867\n"
     ]
    }
   ],
   "source": [
    "print(len(imgs1)+len(imgs2)+len(imgs3))"
   ]
  },
  {
   "cell_type": "code",
   "execution_count": 9,
   "metadata": {},
   "outputs": [],
   "source": [
    "하지마 시발\n",
    "prod =[]\n",
    "br = []\n",
    "name = []\n",
    "model = []\n",
    "company = []\n",
    "year = []\n",
    "retail = []\n",
    "etc = [] "
   ]
  },
  {
   "cell_type": "code",
   "execution_count": 10,
   "metadata": {},
   "outputs": [
    {
     "name": "stdout",
     "output_type": "stream",
     "text": [
      "200번 0\n",
      "200번 200\n",
      "200번 400\n",
      "200번 600\n",
      "200번 800\n"
     ]
    }
   ],
   "source": [
    "\n",
    "\n",
    "driver= webdriver.Chrome('chromedriver')\n",
    "for i in range(len(imgs3)):\n",
    "#for i in range(2):\n",
    "    aa0 = re.split('_',imgs3[i])[0]\n",
    "    aa1 = re.split('_',imgs3[i])[1]\n",
    "\n",
    "    try:\n",
    "        prod.append(aa0)\n",
    "        br.append(aa1)\n",
    "        driver.get('https://www.gparts.co.kr/showBarcodeRecordInfo.do')\n",
    "        time.sleep(0.5)\n",
    "        driver.find_element_by_xpath('//*[@id=\"page_wrap\"]/div/ul/li[1]/a').click()\n",
    "        driver.find_element_by_name('barcode').send_keys('%s' % aa1)\n",
    "        driver.find_element_by_xpath('//*[@id=\"page_wrap\"]/fieldset/a').click()    \n",
    "        time.sleep(0.5)\n",
    "        page1 = driver.page_source\n",
    "        soup1 = BeautifulSoup(page1)\n",
    "        a21 = soup1.find_all('td')[1].text\n",
    "        a22 = soup1.find_all('td')[2].text\n",
    "        a23 = soup1.find_all('td')[3].text\n",
    "        a24 = soup1.find_all('td')[4].text\n",
    "        a25 = soup1.find_all('td')[5].text\n",
    "        a26 = soup1.find_all('td')[6].text\n",
    "        \n",
    "\n",
    "        name.append(a21)\n",
    "        model.append(a22)\n",
    "        company.append(a23)\n",
    "        year.append(a24)\n",
    "        retail.append(a25)\n",
    "        etc.append(a26)\n",
    "        if i % 200 ==0:\n",
    "            print('200번', i)\n",
    "    except:\n",
    "        print(i)\n",
    "#pd.DataFrame([pd,br,name,model,company,year,retail,etc])"
   ]
  },
  {
   "cell_type": "code",
   "execution_count": 20,
   "metadata": {},
   "outputs": [],
   "source": [
    "prod =[]\n",
    "for i in range(len(imgs1)):\n",
    "    aa0 = re.split('_',imgs1[i])[0]\n",
    "    prod.append(aa0)"
   ]
  },
  {
   "cell_type": "code",
   "execution_count": 11,
   "metadata": {},
   "outputs": [],
   "source": [
    "import pandas as pd\n",
    "df = pd.DataFrame(data={'품번':prod,'바코드':br,'제품이름':name,'부품명':model,'제조사':company,'차량연식':year,'공급업체명':retail,'기타사항':etc})\n",
    "df.head()\n",
    "df.to_csv('data3.csv', index=False, encoding='euc-kr')"
   ]
  },
  {
   "cell_type": "code",
   "execution_count": 59,
   "metadata": {},
   "outputs": [],
   "source": [
    "driver.get('https://www.gparts.co.kr/showBarcodeRecordInfo.do')\n",
    "driver.find_element_by_name('barcode').send_keys('201709181277001000110001101')\n",
    "driver.find_element_by_xpath('//*[@id=\"page_wrap\"]/fieldset/a').click()\n",
    "driver.find_element_by_xpath('//*[@id=\"page_wrap\"]/div/ul/li[1]/a').click()"
   ]
  },
  {
   "cell_type": "code",
   "execution_count": 58,
   "metadata": {},
   "outputs": [
    {
     "data": {
      "text/plain": [
       "<function shutil.move(src, dst, copy_function=<function copy2 at 0x0000000002AA1510>)>"
      ]
     },
     "execution_count": 58,
     "metadata": {},
     "output_type": "execute_result"
    }
   ],
   "source": [
    "import shutil\n",
    "import os\n",
    "#for i in range(len(imgs)):\n",
    "for i in range(1):\n",
    "    try:\n",
    "        if not(os.path.isdir(prod[i])):\n",
    "            os.makedirs(os.path.join(prod[i]))\n",
    "    except:\n",
    "        print(i,prod[i])\n",
    "\n",
    "    shutil.move(prod[i]+'/'+real[i],real[i])"
   ]
  },
  {
   "cell_type": "code",
   "execution_count": 56,
   "metadata": {},
   "outputs": [],
   "source": [
    "import os\n",
    "try:\n",
    "    if not(os.path.isdir('260603788R')):\n",
    "        os.makedirs(os.path.join('260603788R'))\n",
    "except OSError as e:\n",
    "    if e.errno != errno.EEXIST:\n",
    "        print(\"Failed to create directory!!!!!\")\n",
    "        raise\n"
   ]
  },
  {
   "cell_type": "code",
   "execution_count": 27,
   "metadata": {},
   "outputs": [],
   "source": [
    "df1 = pd.read_csv('data1.csv')\n",
    "df2 = pd.read_csv('data2.csv', encoding='euc-kr')\n",
    "df3 = pd.read_csv('data3.csv', encoding='euc-kr')"
   ]
  },
  {
   "cell_type": "code",
   "execution_count": 28,
   "metadata": {},
   "outputs": [],
   "source": [
    "df = pd.concat([df1, af,df2,df3])"
   ]
  },
  {
   "cell_type": "code",
   "execution_count": 15,
   "metadata": {},
   "outputs": [
    {
     "data": {
      "text/plain": [
       "'9240126500_201709051256001000310004001_2.jpg'"
      ]
     },
     "execution_count": 15,
     "metadata": {},
     "output_type": "execute_result"
    }
   ],
   "source": [
    "imgs2[0]"
   ]
  },
  {
   "cell_type": "code",
   "execution_count": null,
   "metadata": {},
   "outputs": [],
   "source": [
    "import pandas as pd\n",
    "df = pd.DataFrame(data={'품번':prod,'바코드':br,'제품이름':name,'부품명':model,'제조사':company,'차량연식':year,'공급업체명':retail,'기타사항':etc})\n",
    "df.head()\n",
    "df.to_csv('data3.csv', index=False, encoding='euc-kr')"
   ]
  },
  {
   "cell_type": "code",
   "execution_count": 26,
   "metadata": {},
   "outputs": [],
   "source": [
    "\n",
    "af = pd.DataFrame(data={'품번':[9240126500],'바코드':[201709051256001000310004001],'제품이름':['컴비네이션램프(후미등)(좌)'],'부품명':['싼타페'],'제조사':['현대'],'차량연식':[2005],'공급업체명':['(유)현대종합폐차장'],'기타사항':['']})"
   ]
  },
  {
   "cell_type": "code",
   "execution_count": 30,
   "metadata": {},
   "outputs": [],
   "source": [
    "df.to_csv('1022_01_full_name.csv', encoding='euc-kr', index=False)"
   ]
  },
  {
   "cell_type": "code",
   "execution_count": null,
   "metadata": {},
   "outputs": [],
   "source": [
    "pd.read_csv('')"
   ]
  }
 ],
 "metadata": {
  "kernelspec": {
   "display_name": "Python 3",
   "language": "python",
   "name": "python3"
  },
  "language_info": {
   "codemirror_mode": {
    "name": "ipython",
    "version": 3
   },
   "file_extension": ".py",
   "mimetype": "text/x-python",
   "name": "python",
   "nbconvert_exporter": "python",
   "pygments_lexer": "ipython3",
   "version": "3.7.2"
  }
 },
 "nbformat": 4,
 "nbformat_minor": 2
}
